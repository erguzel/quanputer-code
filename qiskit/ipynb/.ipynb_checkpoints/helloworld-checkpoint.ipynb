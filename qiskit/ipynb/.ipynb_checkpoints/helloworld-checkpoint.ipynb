{
 "cells": [
  {
   "cell_type": "code",
   "execution_count": 21,
   "id": "respective-mozambique",
   "metadata": {},
   "outputs": [],
   "source": [
    "import warnings\n",
    "warnings.filterwarnings('ignore')"
   ]
  },
  {
   "cell_type": "code",
   "execution_count": 22,
   "id": "smoking-freedom",
   "metadata": {
    "scrolled": false
   },
   "outputs": [],
   "source": [
    "from qiskit import *"
   ]
  },
  {
   "cell_type": "code",
   "execution_count": 4,
   "id": "chemical-smart",
   "metadata": {},
   "outputs": [],
   "source": [
    "# create 2 qubit quantum register"
   ]
  },
  {
   "cell_type": "code",
   "execution_count": 23,
   "id": "architectural-leather",
   "metadata": {},
   "outputs": [],
   "source": [
    "qr = QuantumRegister(2)"
   ]
  },
  {
   "cell_type": "code",
   "execution_count": 7,
   "id": "descending-mother",
   "metadata": {},
   "outputs": [
    {
     "data": {
      "text/plain": [
       "<qiskit.circuit.instructionset.InstructionSet at 0x10a6fd190>"
      ]
     },
     "execution_count": 7,
     "metadata": {},
     "output_type": "execute_result"
    }
   ],
   "source": [
    "# create 2 classical bits to hold measurement results"
   ]
  },
  {
   "cell_type": "code",
   "execution_count": 24,
   "id": "crucial-arrest",
   "metadata": {},
   "outputs": [],
   "source": [
    "cr = ClassicalRegister(2)"
   ]
  },
  {
   "cell_type": "code",
   "execution_count": 6,
   "id": "informed-montana",
   "metadata": {},
   "outputs": [],
   "source": [
    "# creating a circuit using classical and quantum registers"
   ]
  },
  {
   "cell_type": "code",
   "execution_count": 25,
   "id": "amateur-hypothetical",
   "metadata": {},
   "outputs": [],
   "source": [
    "circuit = QuantumCircuit(qr, cr)"
   ]
  },
  {
   "cell_type": "code",
   "execution_count": 10,
   "id": "arbitrary-soldier",
   "metadata": {},
   "outputs": [],
   "source": [
    "# visualize quantum circuit"
   ]
  },
  {
   "cell_type": "code",
   "execution_count": 26,
   "id": "introductory-biography",
   "metadata": {},
   "outputs": [],
   "source": [
    "%matplotlib inline"
   ]
  },
  {
   "cell_type": "code",
   "execution_count": 27,
   "id": "current-broadcasting",
   "metadata": {},
   "outputs": [
    {
     "data": {
      "text/html": [
       "<pre style=\"word-wrap: normal;white-space: pre;background: #fff0;line-height: 1.1;font-family: &quot;Courier New&quot;,Courier,monospace\">      \n",
       "q4_0: \n",
       "      \n",
       "q4_1: \n",
       "      \n",
       "c1: 2/\n",
       "      </pre>"
      ],
      "text/plain": [
       "      \n",
       "q4_0: \n",
       "      \n",
       "q4_1: \n",
       "      \n",
       "c1: 2/\n",
       "      "
      ]
     },
     "execution_count": 27,
     "metadata": {},
     "output_type": "execute_result"
    }
   ],
   "source": [
    "circuit.draw()"
   ]
  },
  {
   "cell_type": "code",
   "execution_count": 14,
   "id": "asian-mozambique",
   "metadata": {},
   "outputs": [],
   "source": [
    "# in order to create Entanglement, 1st step is to apply Hadamard gate on one of the qbits"
   ]
  },
  {
   "cell_type": "code",
   "execution_count": 28,
   "id": "abandoned-finder",
   "metadata": {},
   "outputs": [
    {
     "data": {
      "text/plain": [
       "<qiskit.circuit.instructionset.InstructionSet at 0x144b40dc0>"
      ]
     },
     "execution_count": 28,
     "metadata": {},
     "output_type": "execute_result"
    }
   ],
   "source": [
    "circuit.h(qr[0])"
   ]
  },
  {
   "cell_type": "code",
   "execution_count": 30,
   "id": "settled-albania",
   "metadata": {},
   "outputs": [
    {
     "data": {
      "image/png": "[encoded data removed]",
      "text/plain": [
       "<Figure size 159.923x204.68 with 1 Axes>"
      ]
     },
     "execution_count": 30,
     "metadata": {},
     "output_type": "execute_result"
    }
   ],
   "source": [
    "%matplotlib inline\n",
    "circuit.draw(output='mpl')"
   ]
  },
  {
   "cell_type": "code",
   "execution_count": 13,
   "id": "valued-appendix",
   "metadata": {},
   "outputs": [],
   "source": [
    "## now 2 qubit operation of cx (controlled x gate) \n",
    "## it is similar to classical if\n",
    "## control qubit is the first, and the target of the operation is second qubit"
   ]
  },
  {
   "cell_type": "code",
   "execution_count": 31,
   "id": "gothic-legislation",
   "metadata": {},
   "outputs": [
    {
     "data": {
      "text/plain": [
       "<qiskit.circuit.instructionset.InstructionSet at 0x144d4ff70>"
      ]
     },
     "execution_count": 31,
     "metadata": {},
     "output_type": "execute_result"
    }
   ],
   "source": [
    "circuit.cx(qr[0], qr[1])"
   ]
  },
  {
   "cell_type": "code",
   "execution_count": 32,
   "id": "expected-malawi",
   "metadata": {},
   "outputs": [
    {
     "data": {
      "image/png": "[encoded data removed]",
      "text/plain": [
       "<Figure size 220.123x204.68 with 1 Axes>"
      ]
     },
     "execution_count": 32,
     "metadata": {},
     "output_type": "execute_result"
    }
   ],
   "source": [
    "circuit.draw(output='mpl')"
   ]
  },
  {
   "cell_type": "code",
   "execution_count": 16,
   "id": "increased-lotus",
   "metadata": {},
   "outputs": [],
   "source": [
    " ## with this 2 operation, we aim to generate entanglement between 2 qubits\n"
   ]
  },
  {
   "cell_type": "code",
   "execution_count": 17,
   "id": "imported-assumption",
   "metadata": {},
   "outputs": [],
   "source": [
    "## now we measure the qbits and store the results in classical bits\n"
   ]
  },
  {
   "cell_type": "code",
   "execution_count": 33,
   "id": "genuine-linux",
   "metadata": {},
   "outputs": [
    {
     "data": {
      "text/plain": [
       "<qiskit.circuit.instructionset.InstructionSet at 0x144cfb430>"
      ]
     },
     "execution_count": 33,
     "metadata": {},
     "output_type": "execute_result"
    }
   ],
   "source": [
    "circuit.measure(qr,cr)"
   ]
  },
  {
   "cell_type": "code",
   "execution_count": 34,
   "id": "little-fruit",
   "metadata": {},
   "outputs": [
    {
     "data": {
      "image/png": "[encoded data removed]",
      "text/plain": [
       "<Figure size 340.523x204.68 with 1 Axes>"
      ]
     },
     "execution_count": 34,
     "metadata": {},
     "output_type": "execute_result"
    }
   ],
   "source": [
    "circuit.draw(output='mpl')"
   ]
  },
  {
   "cell_type": "code",
   "execution_count": 21,
   "id": "pursuant-laundry",
   "metadata": {},
   "outputs": [],
   "source": [
    "## now circuit is ready to run on the classical machine\n",
    "## to use the quantum simulator on classical machine, we use aer component of qisit\n",
    "## name of the simulator is qasm_simulator (quantum assembly language )"
   ]
  },
  {
   "cell_type": "code",
   "execution_count": 35,
   "id": "round-supplement",
   "metadata": {},
   "outputs": [],
   "source": [
    "simulator = Aer.get_backend('qasm_simulator')"
   ]
  },
  {
   "cell_type": "code",
   "execution_count": 23,
   "id": "vulnerable-lesson",
   "metadata": {},
   "outputs": [],
   "source": [
    "## imported the simulator, now we can execute"
   ]
  },
  {
   "cell_type": "code",
   "execution_count": 36,
   "id": "korean-montana",
   "metadata": {},
   "outputs": [],
   "source": [
    "result = execute(circuit, backend = simulator).result()"
   ]
  },
  {
   "cell_type": "code",
   "execution_count": 27,
   "id": "falling-literacy",
   "metadata": {},
   "outputs": [],
   "source": [
    "## visualise the result using qiskit plot histogram"
   ]
  },
  {
   "cell_type": "code",
   "execution_count": 39,
   "id": "competent-september",
   "metadata": {},
   "outputs": [],
   "source": [
    "from qiskit.visualization import plot_histogram"
   ]
  },
  {
   "cell_type": "code",
   "execution_count": 40,
   "id": "minute-leadership",
   "metadata": {},
   "outputs": [
    {
     "data": {
      "image/png": "[encoded data removed]",
      "text/plain": [
       "<Figure size 504x360 with 1 Axes>"
      ]
     },
     "execution_count": 40,
     "metadata": {},
     "output_type": "execute_result"
    }
   ],
   "source": [
    "plot_histogram(result.get_counts(circuit))"
   ]
  },
  {
   "cell_type": "code",
   "execution_count": null,
   "id": "talented-webster",
   "metadata": {},
   "outputs": [],
   "source": [
    "## Now run on IBM quantum device\n",
    "## We expect more base states with lower probability amplitudes due to quantum noise"
   ]
  }
 ],
 "metadata": {
  "kernelspec": {
   "display_name": "Python 3",
   "language": "python",
   "name": "python3"
  },
  "language_info": {
   "codemirror_mode": {
    "name": "ipython",
    "version": 3
   },
   "file_extension": ".py",
   "mimetype": "text/x-python",
   "name": "python",
   "nbconvert_exporter": "python",
   "pygments_lexer": "ipython3",
   "version": "3.9.1"
  }
 },
 "nbformat": 4,
 "nbformat_minor": 5
}
